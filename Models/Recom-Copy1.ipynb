{
 "cells": [
  {
   "cell_type": "markdown",
   "metadata": {},
   "source": [
    "## Recommendation System"
   ]
  },
  {
   "cell_type": "markdown",
   "metadata": {},
   "source": [
    "This model uses a recommendation system to predict the 'terms' which can be used for a given proof based on the list of 'types' used in its statement."
   ]
  },
  {
   "cell_type": "code",
   "execution_count": 1,
   "metadata": {},
   "outputs": [],
   "source": [
    "# importing required libraries\n",
    "\n",
    "import json\n",
    "import random\n",
    "import pandas as pd\n",
    "from statistics import mean\n",
    "import matplotlib.pyplot as plt\n",
    "from sklearn.model_selection import train_test_split"
   ]
  },
  {
   "cell_type": "code",
   "execution_count": 2,
   "metadata": {},
   "outputs": [],
   "source": [
    "# Open and Read JSON file's data\n",
    "\n",
    "file = open(r\"shallow-frequencies/shallow-frequencies.json\", \"r\", encoding='utf-8')\n",
    "js = file.read()\n",
    "data = json.loads(js)\n",
    "file.close()"
   ]
  },
  {
   "cell_type": "code",
   "execution_count": 3,
   "metadata": {},
   "outputs": [],
   "source": [
    "# Get all the proofs\n",
    "proofs = data[\"triples\"]\n",
    "\n",
    "# Divide proofs into train & test Data \n",
    "no_test = 150    # No of elements in test data\n",
    "train, test = train_test_split(proofs, test_size = (no_test/len(proofs)))"
   ]
  },
  {
   "cell_type": "code",
   "execution_count": 4,
   "metadata": {},
   "outputs": [],
   "source": [
    "# Shuffle the list of all types and terms to avoid any biasedness peresent in data\n",
    "\n",
    "statements = [row[\"name\"] for row in data[\"types\"]]\n",
    "random.shuffle(statements)\n",
    "proofs = [row[\"name\"] for row in data[\"terms\"]]\n",
    "random.shuffle(proofs)"
   ]
  },
  {
   "cell_type": "code",
   "execution_count": 5,
   "metadata": {},
   "outputs": [],
   "source": [
    "# Create a data frame with index beeing the list of terms & columns being the list of Types\n",
    "\n",
    "df = pd.DataFrame(index = proofs)\n",
    "\n",
    "for statement in statements:\n",
    "    df[statement] = [0]*len(df)"
   ]
  },
  {
   "cell_type": "code",
   "execution_count": 6,
   "metadata": {},
   "outputs": [],
   "source": [
    "# Training on the 'train' data\n",
    "for val in train:\n",
    "    df.loc[val[\"terms\"],val[\"types\"]] += 1"
   ]
  },
  {
   "cell_type": "code",
   "execution_count": 7,
   "metadata": {},
   "outputs": [],
   "source": [
    "df_corr = df.corr(method='spearman')"
   ]
  },
  {
   "cell_type": "code",
   "execution_count": 8,
   "metadata": {},
   "outputs": [],
   "source": [
    "# Function to return list of all 'terms' based on their decreasing order of priorities for a given list of 'types'\n",
    "\n",
    "def get_recom(statement):\n",
    "    corr = df_corr[statement]\n",
    "    corr = corr.mean(axis=1)\n",
    "    wght = df * corr\n",
    "\n",
    "    wght[\"mean\"] = wght.mean(axis=1)\n",
    "    final = wght[[\"mean\"]]\n",
    "    final = final.sort_values(by=[\"mean\"], ascending=False)\n",
    "\n",
    "    return final.index.tolist()"
   ]
  },
  {
   "cell_type": "code",
   "execution_count": 9,
   "metadata": {},
   "outputs": [],
   "source": [
    "# function to get score (average rank of terms in the recommended list/average rank of terms in the normal list)\n",
    "\n",
    "def get_score(triple, single = True):\n",
    "    if triple[\"terms\"] == [] or triple[\"types\"] == []:\n",
    "        return \"terms_or_types_is_empty\"\n",
    "    \n",
    "    else:\n",
    "        recom = get_recom(triple[\"types\"])\n",
    "\n",
    "        pos_recom = []\n",
    "        pos_norm = []\n",
    "\n",
    "        for term in triple[\"terms\"]:\n",
    "            pos_recom.append(recom.index(term))\n",
    "            pos_norm.append(df.index.to_list().index(term))\n",
    "\n",
    "        avg_recom = mean(pos_recom)\n",
    "        avg_norm = mean(pos_norm)\n",
    "        \n",
    "        if single:\n",
    "            return ((avg_recom+1)/(avg_norm+1))*100\n",
    "        else:\n",
    "            return (avg_recom, avg_norm)"
   ]
  },
  {
   "cell_type": "code",
   "execution_count": 10,
   "metadata": {},
   "outputs": [],
   "source": [
    "# function to calculate the average score for more than one test data\n",
    "\n",
    "def avg_score(triples, graph = False):\n",
    "    print(f\"Calculating average score for {len(triples)} elements.\")\n",
    "    print(\"element\\t(avg_recom, avg_norm)\")\n",
    "    \n",
    "    i = 0\n",
    "    list_recom = []\n",
    "    list_norm = []\n",
    "    \n",
    "    for triple in triples:\n",
    "        score = get_score(triple, False)\n",
    "        if score != \"terms_or_types_is_empty\":\n",
    "            list_recom.append(score[0])\n",
    "            list_norm.append(score[1])\n",
    "        i+=1\n",
    "        print(f\" {i} : {score}\")\n",
    "    \n",
    "    avg_per = (mean(list_recom)*100)/mean(list_norm)\n",
    "    print(f\" avg_score of {len(list_recom)} elements is {avg_per} %\")\n",
    "        \n",
    "    return avg_per"
   ]
  },
  {
   "cell_type": "code",
   "execution_count": 11,
   "metadata": {},
   "outputs": [
    {
     "name": "stdout",
     "output_type": "stream",
     "text": [
      "Calculating average score for 150 elements.\n",
      "element\t(avg_recom, avg_norm)\n",
      " 1 : terms_or_types_is_empty\n",
      " 2 : terms_or_types_is_empty\n",
      " 3 : (26.25, 1842.3333333333333)\n",
      " 4 : terms_or_types_is_empty\n",
      " 5 : (64.28571428571429, 1985.7142857142858)\n",
      " 6 : terms_or_types_is_empty\n",
      " 7 : terms_or_types_is_empty\n",
      " 8 : (68, 1421)\n",
      " 9 : (45.16260162601626, 1545.861788617886)\n",
      " 10 : (33, 1654)\n",
      " 11 : (53.27272727272727, 1261.7454545454545)\n",
      " 12 : terms_or_types_is_empty\n",
      " 13 : (24, 1756)\n",
      " 14 : terms_or_types_is_empty\n",
      " 15 : terms_or_types_is_empty\n",
      " 16 : terms_or_types_is_empty\n",
      " 17 : (3, 3298)\n",
      " 18 : (22.75862068965517, 1641.1724137931035)\n",
      " 19 : terms_or_types_is_empty\n",
      " 20 : (70.07142857142857, 1538.4285714285713)\n",
      " 21 : (103.77777777777777, 1716.875)\n",
      " 22 : terms_or_types_is_empty\n",
      " 23 : terms_or_types_is_empty\n",
      " 24 : (24.2, 508.4)\n",
      " 25 : terms_or_types_is_empty\n",
      " 26 : (1071.3333333333333, 1166.3333333333333)\n",
      " 27 : (859, 933)\n",
      " 28 : (3134, 1643)\n",
      " 29 : (15.6875, 2442.5)\n",
      " 30 : (271.46666666666664, 2382.2)\n",
      " 31 : (7.285714285714286, 2992.8571428571427)\n",
      " 32 : terms_or_types_is_empty\n",
      " 33 : terms_or_types_is_empty\n",
      " 34 : (107.76666666666667, 1520.4666666666667)\n",
      " 35 : terms_or_types_is_empty\n",
      " 36 : (588.6666666666666, 1593.3333333333333)\n",
      " 37 : (690, 1384.8181818181818)\n",
      " 38 : (1527, 2519.5)\n",
      " 39 : (54.57931034482758, 1473.903448275862)\n",
      " 40 : (24.05, 2042.7)\n",
      " 41 : (3204, 2617)\n",
      " 42 : terms_or_types_is_empty\n",
      " 43 : terms_or_types_is_empty\n",
      " 44 : terms_or_types_is_empty\n",
      " 45 : terms_or_types_is_empty\n",
      " 46 : (59.84615384615385, 1941.051282051282)\n",
      " 47 : terms_or_types_is_empty\n",
      " 48 : terms_or_types_is_empty\n",
      " 49 : (67.33333333333333, 983.3333333333334)\n",
      " 50 : (498.5, 1991)\n",
      " 51 : (98, 1401)\n",
      " 52 : (28.333333333333332, 1425.3333333333333)\n",
      " 53 : (369, 2443.3333333333335)\n",
      " 54 : terms_or_types_is_empty\n",
      " 55 : terms_or_types_is_empty\n",
      " 56 : (327.3529411764706, 1693.6470588235295)\n",
      " 57 : (13.285714285714286, 1008.5714285714286)\n",
      " 58 : (570, 3025)\n",
      " 59 : terms_or_types_is_empty\n",
      " 60 : (34.2, 2053.1)\n",
      " 61 : (729.7777777777778, 1343.6666666666667)\n",
      " 62 : (67.82352941176471, 2144.5882352941176)\n",
      " 63 : terms_or_types_is_empty\n",
      " 64 : (250.14285714285714, 1713)\n",
      " 65 : (237.6, 2284)\n",
      " 66 : (139.82051282051282, 2029.1538461538462)\n",
      " 67 : (491.2307692307692, 1327.1153846153845)\n",
      " 68 : (3098, 2269)\n",
      " 69 : terms_or_types_is_empty\n",
      " 70 : terms_or_types_is_empty\n",
      " 71 : (3068, 2700)\n",
      " 72 : (80.5, 1910.3333333333333)\n",
      " 73 : (144, 1357.5)\n",
      " 74 : terms_or_types_is_empty\n",
      " 75 : (15.6875, 2442.5)\n",
      " 76 : (119.375, 1580.75)\n",
      " 77 : (114.24137931034483, 1836.7241379310344)\n",
      " 78 : terms_or_types_is_empty\n",
      " 79 : (66.3913043478261, 1295.695652173913)\n",
      " 80 : terms_or_types_is_empty\n",
      " 81 : (606.2, 1687.6)\n",
      " 82 : (41.32, 1491.8)\n",
      " 83 : (3, 3298)\n",
      " 84 : (98.8, 1992)\n",
      " 85 : (201.75, 986.5)\n",
      " 86 : (160.89830508474577, 1723.949152542373)\n",
      " 87 : (2081, 2474)\n",
      " 88 : (1364, 2286.3333333333335)\n",
      " 89 : terms_or_types_is_empty\n",
      " 90 : (705.8, 1257.4)\n",
      " 91 : terms_or_types_is_empty\n",
      " 92 : terms_or_types_is_empty\n",
      " 93 : (217.47368421052633, 2254.684210526316)\n",
      " 94 : (9.985294117647058, 1287.7941176470588)\n",
      " 95 : (409.8888888888889, 1479.4444444444443)\n",
      " 96 : (114, 2166)\n",
      " 97 : (142, 1883)\n",
      " 98 : (512, 2222.5)\n",
      " 99 : terms_or_types_is_empty\n",
      " 100 : terms_or_types_is_empty\n",
      " 101 : (3, 3298)\n",
      " 102 : (88, 1053)\n",
      " 103 : terms_or_types_is_empty\n",
      " 104 : terms_or_types_is_empty\n",
      " 105 : terms_or_types_is_empty\n",
      " 106 : terms_or_types_is_empty\n",
      " 107 : (468, 2029.25)\n",
      " 108 : terms_or_types_is_empty\n",
      " 109 : terms_or_types_is_empty\n",
      " 110 : (265, 808)\n",
      " 111 : (14.25, 2109.3333333333335)\n",
      " 112 : terms_or_types_is_empty\n",
      " 113 : (3, 3298)\n",
      " 114 : (1797.3333333333333, 2440.3333333333335)\n",
      " 115 : (1140.25, 1869.25)\n",
      " 116 : (51.92307692307692, 2715.153846153846)\n",
      " 117 : terms_or_types_is_empty\n",
      " 118 : terms_or_types_is_empty\n",
      " 119 : terms_or_types_is_empty\n",
      " 120 : terms_or_types_is_empty\n",
      " 121 : terms_or_types_is_empty\n",
      " 122 : (3, 3298)\n",
      " 123 : terms_or_types_is_empty\n",
      " 124 : (272.85714285714283, 1937.2857142857142)\n",
      " 125 : (1334.5, 1012)\n",
      " 126 : (69.5, 1156.5)\n",
      " 127 : terms_or_types_is_empty\n",
      " 128 : (89.28571428571429, 1878.857142857143)\n",
      " 129 : terms_or_types_is_empty\n",
      " 130 : (451.6666666666667, 1590.4)\n",
      " 131 : terms_or_types_is_empty\n",
      " 132 : terms_or_types_is_empty\n",
      " 133 : terms_or_types_is_empty\n",
      " 134 : (136.5, 1626)\n",
      " 135 : (56.4, 2135.1)\n",
      " 136 : terms_or_types_is_empty\n",
      " 137 : (21.80952380952381, 1497.4761904761904)\n",
      " 138 : terms_or_types_is_empty\n",
      " 139 : (243.74074074074073, 1257.1851851851852)\n",
      " 140 : terms_or_types_is_empty\n",
      " 141 : (1035.5, 1398.2)\n",
      " 142 : (55, 1964.5)\n",
      " 143 : terms_or_types_is_empty\n",
      " 144 : (112.35714285714286, 1719.3809523809523)\n",
      " 145 : terms_or_types_is_empty\n",
      " 146 : terms_or_types_is_empty\n",
      " 147 : terms_or_types_is_empty\n",
      " 148 : terms_or_types_is_empty\n",
      " 149 : (1566.5, 1445.5)\n",
      " 150 : (1.5, 2183.5)\n",
      " avg_score of 88 elements is 23.718311626898426 %\n"
     ]
    },
    {
     "data": {
      "text/plain": [
       "23.718311626898426"
      ]
     },
     "execution_count": 11,
     "metadata": {},
     "output_type": "execute_result"
    }
   ],
   "source": [
    "avg_score(test)"
   ]
  },
  {
   "cell_type": "code",
   "execution_count": 12,
   "metadata": {},
   "outputs": [
    {
     "name": "stdout",
     "output_type": "stream",
     "text": [
      "494\n",
      "707\n"
     ]
    }
   ],
   "source": [
    "spea = [547, 441]\n",
    "cosi = [707]\n",
    "print(mean(spea))\n",
    "print(mean(cosi))"
   ]
  },
  {
   "cell_type": "code",
   "execution_count": 13,
   "metadata": {},
   "outputs": [
    {
     "name": "stdout",
     "output_type": "stream",
     "text": [
      "468.27272727272725\n",
      "466.09090909090907\n"
     ]
    }
   ],
   "source": [
    "spea = [612, 491, 424, 442, 348, 426, 504, 429, 443, 557, 475]\n",
    "kend = [613, 471, 407, 440, 345, 425, 502, 437, 441, 572, 474]\n",
    "print(mean(spea))\n",
    "print(mean(kend))"
   ]
  },
  {
   "cell_type": "code",
   "execution_count": 14,
   "metadata": {},
   "outputs": [
    {
     "ename": "NameError",
     "evalue": "name 'pers' is not defined",
     "output_type": "error",
     "traceback": [
      "\u001b[1;31m---------------------------------------------------------------------------\u001b[0m",
      "\u001b[1;31mNameError\u001b[0m                                 Traceback (most recent call last)",
      "\u001b[1;32m<ipython-input-14-343deabebe92>\u001b[0m in \u001b[0;36m<module>\u001b[1;34m\u001b[0m\n\u001b[1;32m----> 1\u001b[1;33m \u001b[0mspea\u001b[0m \u001b[1;33m-\u001b[0m \u001b[0mpers\u001b[0m\u001b[1;33m\u001b[0m\u001b[1;33m\u001b[0m\u001b[0m\n\u001b[0m\u001b[0;32m      2\u001b[0m \u001b[1;36m355\u001b[0m \u001b[1;33m-\u001b[0m \u001b[1;36m381\u001b[0m\u001b[1;33m\u001b[0m\u001b[1;33m\u001b[0m\u001b[0m\n\u001b[0;32m      3\u001b[0m \u001b[1;36m456\u001b[0m \u001b[1;33m-\u001b[0m \u001b[1;36m479\u001b[0m\u001b[1;33m\u001b[0m\u001b[1;33m\u001b[0m\u001b[0m\n\u001b[0;32m      4\u001b[0m \u001b[1;36m517\u001b[0m \u001b[1;33m-\u001b[0m \u001b[1;36m534\u001b[0m\u001b[1;33m\u001b[0m\u001b[1;33m\u001b[0m\u001b[0m\n\u001b[0;32m      5\u001b[0m \u001b[0mpers\u001b[0m \u001b[1;33m=\u001b[0m \u001b[1;33m[\u001b[0m\u001b[1;36m639\u001b[0m\u001b[1;33m,\u001b[0m \u001b[1;36m519\u001b[0m\u001b[1;33m,\u001b[0m \u001b[1;36m451\u001b[0m\u001b[1;33m,\u001b[0m \u001b[1;36m502\u001b[0m\u001b[1;33m]\u001b[0m\u001b[1;33m\u001b[0m\u001b[1;33m\u001b[0m\u001b[0m\n",
      "\u001b[1;31mNameError\u001b[0m: name 'pers' is not defined"
     ]
    }
   ],
   "source": [
    "spea - pers\n",
    "355 - 381\n",
    "456 - 479\n",
    "517 - 534\n",
    "pers = [639, 519, 451, 502]"
   ]
  },
  {
   "cell_type": "markdown",
   "metadata": {},
   "source": [
    "Here the average rank (x) represents that the average rank of terms present in a proof is x (in the recommended list) out of total 3337 terms present in the list."
   ]
  },
  {
   "cell_type": "code",
   "execution_count": null,
   "metadata": {},
   "outputs": [],
   "source": [
    "# function to calculate the average score for more than one test data\n",
    "\n",
    "def avg_score_graph(triples):\n",
    "    list_recom = []\n",
    "    \n",
    "    for triple in triples:\n",
    "        score = get_score(triple, False)\n",
    "        if score != \"terms_or_types_is_empty\":\n",
    "            list_recom.append(score)\n",
    "            \n",
    "    return list_recom"
   ]
  },
  {
   "cell_type": "code",
   "execution_count": null,
   "metadata": {},
   "outputs": [],
   "source": [
    "scores = avg_score_graph(test)\n",
    "test_no = list(range(1,len(scores)+1))\n",
    "\n",
    "plt.figure(figsize=[15,15])\n",
    "\n",
    "plt.plot(test_no, scores, 'g*', label=\"recomm_index\")\n",
    "plt.axhline(y = mean(scores), color = 'g', ls = 'dotted', label=\"Avg_recomm_index\")\n",
    "\n",
    "#plt.axhline(y = len(data['terms'])/2, color = 'r', ls = 'dotted')\n",
    "\n",
    "plt.axhline(y = 12, color = 'b', ls = 'dotted', label=\"target_index\")\n",
    "\n",
    "plt.legend(loc=\"upper left\")\n",
    "\n",
    "plt.xlabel('Proofs')\n",
    "plt.ylabel('Index of Terms')\n",
    "\n",
    "plt.title('Dot Plot : Red Dots')"
   ]
  },
  {
   "cell_type": "code",
   "execution_count": null,
   "metadata": {},
   "outputs": [],
   "source": []
  },
  {
   "cell_type": "code",
   "execution_count": null,
   "metadata": {},
   "outputs": [],
   "source": []
  }
 ],
 "metadata": {
  "kernelspec": {
   "display_name": "Python 3",
   "language": "python",
   "name": "python3"
  },
  "language_info": {
   "codemirror_mode": {
    "name": "ipython",
    "version": 3
   },
   "file_extension": ".py",
   "mimetype": "text/x-python",
   "name": "python",
   "nbconvert_exporter": "python",
   "pygments_lexer": "ipython3",
   "version": "3.8.5"
  }
 },
 "nbformat": 4,
 "nbformat_minor": 4
}
